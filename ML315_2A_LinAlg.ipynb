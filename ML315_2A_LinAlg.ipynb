{
  "nbformat": 4,
  "nbformat_minor": 0,
  "metadata": {
    "colab": {
      "provenance": [],
      "authorship_tag": "ABX9TyOY+pgSfFHgh/lg2jtGiLpo",
      "include_colab_link": true
    },
    "kernelspec": {
      "name": "python3",
      "display_name": "Python 3"
    },
    "language_info": {
      "name": "python"
    }
  },
  "cells": [
    {
      "cell_type": "markdown",
      "metadata": {
        "id": "view-in-github",
        "colab_type": "text"
      },
      "source": [
        "<a href=\"https://colab.research.google.com/github/lcbjrrr/ML315/blob/main/ML315_2A_LinAlg.ipynb\" target=\"_parent\"><img src=\"https://colab.research.google.com/assets/colab-badge.svg\" alt=\"Open In Colab\"/></a>"
      ]
    },
    {
      "cell_type": "markdown",
      "source": [
        "# Vectors, Arrays, and Matrices\n",
        "\n"
      ],
      "metadata": {
        "id": "THLE1mR14oMq"
      }
    },
    {
      "cell_type": "markdown",
      "source": [
        "Vectors, arrays, and matrices are fundamental data structures in Python, primarily handled using the NumPy library. A vector is a one-dimensional array of numbers, while a matrix is a two-dimensional array with rows and columns. Arrays, on the other hand, are multidimensional collections of elements, encompassing both vectors and matrices. NumPy offers efficient operations on these structures, including vectorized calculations, matrix multiplication, and linear algebra functions. This makes it a powerful tool for various applications, from data analysis to machine learning.\n",
        "\n"
      ],
      "metadata": {
        "id": "As1DN8GN4rIg"
      }
    },
    {
      "cell_type": "markdown",
      "source": [
        "## numpy"
      ],
      "metadata": {
        "id": "5zA-WKEd4oPq"
      }
    },
    {
      "cell_type": "markdown",
      "source": [
        "\n",
        "\n",
        "NumPy arrays are more efficient and optimized for numerical computations compared to Python lists. They are homogeneous, meaning all elements must be of the same data type, while Python lists can hold elements of different types. NumPy arrays also offer vectorized operations, allowing for faster calculations on large datasets.\n",
        "\n"
      ],
      "metadata": {
        "id": "4w1vzlwn4o5z"
      }
    },
    {
      "cell_type": "code",
      "source": [
        "import numpy as np\n",
        "a1 = [1, 2, 3]\n",
        "print(a1)\n",
        "a2 = np.array([1, 2, 3])\n",
        "print(a2)"
      ],
      "metadata": {
        "colab": {
          "base_uri": "https://localhost:8080/"
        },
        "id": "n3f5Lyas4uiN",
        "outputId": "8435457f-692e-4015-d403-c0b1ffecc6f8"
      },
      "execution_count": 1,
      "outputs": [
        {
          "output_type": "stream",
          "name": "stdout",
          "text": [
            "[1, 2, 3]\n",
            "[1 2 3]\n"
          ]
        }
      ]
    },
    {
      "cell_type": "markdown",
      "source": [
        "2D matrices are a specific type of array with two dimensions: rows and columns. They are commonly used to represent tabular data or mathematical matrices. In Python, you can create and manipulate 2D matrices using both lists and NumPy arrays."
      ],
      "metadata": {
        "id": "txw5yHiP4xh1"
      }
    },
    {
      "cell_type": "code",
      "source": [
        "b = np.array( [ [1,2,3],\n",
        "                [4,5,6] ] )\n",
        "print(b)\n",
        "print(b.shape)"
      ],
      "metadata": {
        "colab": {
          "base_uri": "https://localhost:8080/"
        },
        "id": "-lV2Ql_343Qg",
        "outputId": "4ee1b261-b7cf-408e-d68c-cc2ea503c0dd"
      },
      "execution_count": 2,
      "outputs": [
        {
          "output_type": "stream",
          "name": "stdout",
          "text": [
            "[[1 2 3]\n",
            " [4 5 6]]\n",
            "(2, 3)\n"
          ]
        }
      ]
    },
    {
      "cell_type": "markdown",
      "source": [
        " To access an element in a 2D array, you use two indices: one for the row and one for the column."
      ],
      "metadata": {
        "id": "4rUr64KO5d5e"
      }
    },
    {
      "cell_type": "code",
      "source": [
        "print(b[1,1])\n",
        "print(b[1][1])"
      ],
      "metadata": {
        "colab": {
          "base_uri": "https://localhost:8080/"
        },
        "id": "ZXcmQXeM4zSf",
        "outputId": "d2dbe452-7448-4fd6-af86-6d51f30d9ca1"
      },
      "execution_count": 3,
      "outputs": [
        {
          "output_type": "stream",
          "name": "stdout",
          "text": [
            "5\n",
            "5\n"
          ]
        }
      ]
    },
    {
      "cell_type": "markdown",
      "source": [
        "## Linear Algebra"
      ],
      "metadata": {
        "id": "UA3kizuK55_a"
      }
    },
    {
      "cell_type": "markdown",
      "source": [
        "\n",
        "\n",
        "NumPy arrays x and y, adds them element-wise, and prints the resulting array z."
      ],
      "metadata": {
        "id": "05xuxBq056CC"
      }
    },
    {
      "cell_type": "code",
      "source": [
        "x = np.array([1,2])\n",
        "y = np.array([5,6])\n",
        "z = x + y\n",
        "print(z)"
      ],
      "metadata": {
        "colab": {
          "base_uri": "https://localhost:8080/"
        },
        "id": "nj-ZhW9f5730",
        "outputId": "0fc1cd03-5c76-46ac-e689-c203031207db"
      },
      "execution_count": 8,
      "outputs": [
        {
          "output_type": "stream",
          "name": "stdout",
          "text": [
            "[6 8]\n"
          ]
        }
      ]
    },
    {
      "cell_type": "code",
      "source": [
        "x = [1,2]\n",
        "y = [5,6]\n",
        "z = x + y\n",
        "print(z)"
      ],
      "metadata": {
        "colab": {
          "base_uri": "https://localhost:8080/"
        },
        "id": "2qinvCLg59pk",
        "outputId": "a4008547-4424-4b01-a99e-069e0f42bc15"
      },
      "execution_count": 9,
      "outputs": [
        {
          "output_type": "stream",
          "name": "stdout",
          "text": [
            "[1, 2, 5, 6]\n"
          ]
        }
      ]
    },
    {
      "cell_type": "markdown",
      "source": [
        "Let's subtract y from x element-wise, and prints the resulting array z\n"
      ],
      "metadata": {
        "id": "KqD9JsA66AFk"
      }
    },
    {
      "cell_type": "code",
      "source": [
        "x = np.array([1,2])\n",
        "y = np.array([5,6])\n",
        "z = x - y\n",
        "print(z)"
      ],
      "metadata": {
        "colab": {
          "base_uri": "https://localhost:8080/"
        },
        "id": "e2bTJxrc6Ewm",
        "outputId": "c5567157-940f-4615-fa3c-595c66739eb9"
      },
      "execution_count": 10,
      "outputs": [
        {
          "output_type": "stream",
          "name": "stdout",
          "text": [
            "[-4 -4]\n"
          ]
        }
      ]
    },
    {
      "cell_type": "markdown",
      "source": [
        "Let's perform element-wise division, and prints the resulting array z.\n"
      ],
      "metadata": {
        "id": "DHAnEZar6GpH"
      }
    },
    {
      "cell_type": "code",
      "source": [
        "x = np.array([1,2])\n",
        "y = np.array([5,6])\n",
        "z = x / y\n",
        "print(z)"
      ],
      "metadata": {
        "colab": {
          "base_uri": "https://localhost:8080/"
        },
        "id": "U9qh53Pi6HhA",
        "outputId": "9da08c37-a066-4e39-cbde-c362e5144205"
      },
      "execution_count": 11,
      "outputs": [
        {
          "output_type": "stream",
          "name": "stdout",
          "text": [
            "[0.2        0.33333333]\n"
          ]
        }
      ]
    },
    {
      "cell_type": "markdown",
      "source": [
        "Lastly, let's do a element-wise multiplication, and prints the resulting array z."
      ],
      "metadata": {
        "id": "9f_MTtEK6KD2"
      }
    },
    {
      "cell_type": "code",
      "source": [
        "x = np.array([[1,2],\n",
        "              [3,4] ])\n",
        "y = np.array([[5,6],\n",
        "              [7,8]])\n",
        "z = x * y\n",
        "print(z)"
      ],
      "metadata": {
        "colab": {
          "base_uri": "https://localhost:8080/"
        },
        "id": "SKNalctk6L_f",
        "outputId": "9d51ff1f-0a3c-4ca3-b8c2-6f99dd984230"
      },
      "execution_count": 12,
      "outputs": [
        {
          "output_type": "stream",
          "name": "stdout",
          "text": [
            "[[ 5 12]\n",
            " [21 32]]\n"
          ]
        }
      ]
    },
    {
      "cell_type": "markdown",
      "source": [
        "Matrix (dot) multiplication is a more complex operation where the elements of one matrix are multiplied by the corresponding elements of another matrix, and then the products are summed. This operation has specific rules regarding the dimensions of the matrices involved.\n",
        "\n",
        "`z[0,0] = (1*5) + (2*7) = 19`\n",
        "\n",
        "`z[0,1] = (1*6) + (2*8) = 22`\n",
        "\n",
        "`z[1,0] = (3*5) + (4*7) = 43`\n",
        "\n",
        "`z[1,1] = (3*6) + (4*8) = 50`"
      ],
      "metadata": {
        "id": "ACKVz53N6Nfk"
      }
    },
    {
      "cell_type": "code",
      "source": [
        "x = np.array([[1,2],\n",
        "              [3,4] ])\n",
        "y = np.array([[5,6],\n",
        "              [7,8]])\n",
        "z = x @ y\n",
        "print(z)"
      ],
      "metadata": {
        "colab": {
          "base_uri": "https://localhost:8080/"
        },
        "id": "EdQHwNVY6OCH",
        "outputId": "d3824a39-49cb-49e9-f4f4-2487db8c3d37"
      },
      "execution_count": 13,
      "outputs": [
        {
          "output_type": "stream",
          "name": "stdout",
          "text": [
            "[[19 22]\n",
            " [43 50]]\n"
          ]
        }
      ]
    },
    {
      "cell_type": "markdown",
      "source": [
        "To multiply two matrices, the number of columns in the first matrix must equal the number of rows in the second matrix.\n"
      ],
      "metadata": {
        "id": "U3NIYIVP6aUb"
      }
    },
    {
      "cell_type": "code",
      "source": [
        "grades = np.array([ [7,8,9],\n",
        "                    [5,6,7],\n",
        "                    [9,9,5],\n",
        "                    [9,9,9] ])\n",
        "print(grades)\n",
        "print(grades.shape)"
      ],
      "metadata": {
        "colab": {
          "base_uri": "https://localhost:8080/"
        },
        "id": "NogQN7kM6bd1",
        "outputId": "04b45526-ee7f-409e-965b-8ce878ebe0ec"
      },
      "execution_count": 16,
      "outputs": [
        {
          "output_type": "stream",
          "name": "stdout",
          "text": [
            "[[7 8 9]\n",
            " [5 6 7]\n",
            " [9 9 5]\n",
            " [9 9 9]]\n",
            "(4, 3)\n"
          ]
        }
      ]
    },
    {
      "cell_type": "code",
      "source": [
        "weights = np.array([ [0.4],\n",
        "                     [0.4],\n",
        "                     [0.2] ])\n",
        "print(weights)\n",
        "print(weights.shape)"
      ],
      "metadata": {
        "colab": {
          "base_uri": "https://localhost:8080/"
        },
        "id": "xRD8VfDP6zR6",
        "outputId": "53203a38-dcfc-48ec-ec3c-e1bbbdfe4a36"
      },
      "execution_count": 17,
      "outputs": [
        {
          "output_type": "stream",
          "name": "stdout",
          "text": [
            "[[0.4]\n",
            " [0.4]\n",
            " [0.2]]\n",
            "(3, 1)\n"
          ]
        }
      ]
    },
    {
      "cell_type": "markdown",
      "source": [
        "So..."
      ],
      "metadata": {
        "id": "yMRRQeDI68Cs"
      }
    },
    {
      "cell_type": "code",
      "source": [
        "finals = grades @ weights\n",
        "print(finals)"
      ],
      "metadata": {
        "colab": {
          "base_uri": "https://localhost:8080/"
        },
        "id": "UaRK1iBm64PS",
        "outputId": "75b7a22d-2b2e-4359-877e-7b1ab5eb14d6"
      },
      "execution_count": 18,
      "outputs": [
        {
          "output_type": "stream",
          "name": "stdout",
          "text": [
            "[[7.8]\n",
            " [5.8]\n",
            " [8.2]\n",
            " [9. ]]\n"
          ]
        }
      ]
    },
    {
      "cell_type": "markdown",
      "source": [
        "How about the other way around?"
      ],
      "metadata": {
        "id": "UtVrEvHw8_zT"
      }
    },
    {
      "cell_type": "code",
      "source": [
        "finals =  weights @ grades"
      ],
      "metadata": {
        "colab": {
          "base_uri": "https://localhost:8080/",
          "height": 159
        },
        "id": "4OGAdOdE87_b",
        "outputId": "213d8976-2d3a-447a-dd49-ef65c82e9520"
      },
      "execution_count": 23,
      "outputs": [
        {
          "output_type": "error",
          "ename": "ValueError",
          "evalue": "matmul: Input operand 1 has a mismatch in its core dimension 0, with gufunc signature (n?,k),(k,m?)->(n?,m?) (size 3 is different from 1)",
          "traceback": [
            "\u001b[0;31m---------------------------------------------------------------------------\u001b[0m",
            "\u001b[0;31mValueError\u001b[0m                                Traceback (most recent call last)",
            "\u001b[0;32m/tmp/ipython-input-2488955656.py\u001b[0m in \u001b[0;36m<cell line: 0>\u001b[0;34m()\u001b[0m\n\u001b[0;32m----> 1\u001b[0;31m \u001b[0mfinals\u001b[0m \u001b[0;34m=\u001b[0m  \u001b[0mweights\u001b[0m \u001b[0;34m@\u001b[0m \u001b[0mgrades\u001b[0m\u001b[0;34m\u001b[0m\u001b[0;34m\u001b[0m\u001b[0m\n\u001b[0m",
            "\u001b[0;31mValueError\u001b[0m: matmul: Input operand 1 has a mismatch in its core dimension 0, with gufunc signature (n?,k),(k,m?)->(n?,m?) (size 3 is different from 1)"
          ]
        }
      ]
    },
    {
      "cell_type": "markdown",
      "source": [
        "### Transposition"
      ],
      "metadata": {
        "id": "VsrCliah9F7s"
      }
    },
    {
      "cell_type": "markdown",
      "source": [
        "Transposition is the process of flipping a matrix over its diagonal, interchanging rows and columns."
      ],
      "metadata": {
        "id": "4osYMZpf9KBN"
      }
    },
    {
      "cell_type": "code",
      "source": [
        "weights_t = weights.T\n",
        "print(weights_t)\n",
        "print(weights_t.shape)\n",
        "\n",
        "grades_t = grades.T\n",
        "print(grades_t)\n",
        "print(grades_t.shape)\n",
        "\n",
        "print(weights_t @ grades_t)"
      ],
      "metadata": {
        "colab": {
          "base_uri": "https://localhost:8080/"
        },
        "id": "pXC2tmvq9Kuf",
        "outputId": "f742d30d-c3bb-4f8c-cce2-2049035d9136"
      },
      "execution_count": 24,
      "outputs": [
        {
          "output_type": "stream",
          "name": "stdout",
          "text": [
            "[[0.4 0.4 0.2]]\n",
            "(1, 3)\n",
            "[[7 5 9]\n",
            " [8 6 9]\n",
            " [9 7 5]]\n",
            "(3, 3)\n",
            "[[7.8 5.8 8.2]]\n"
          ]
        }
      ]
    },
    {
      "cell_type": "markdown",
      "source": [
        "### Inverted Matrix"
      ],
      "metadata": {
        "id": "eUXvd4qn9N0e"
      }
    },
    {
      "cell_type": "markdown",
      "source": [
        "The inverted matrix of a square matrix A is the matrix A⁻¹ that, when multiplied by A, yields the identity matrix."
      ],
      "metadata": {
        "id": "WQ35Y-Jx7ETV"
      }
    },
    {
      "cell_type": "code",
      "source": [
        "from numpy.linalg import inv\n",
        "grades = np.array([[7, 8, 9],\n",
        "                   [5, 6, 7],\n",
        "                   [9, 9, 5]])\n",
        "inv_grades = inv(grades)\n",
        "print(inv_grades)\n",
        "\n",
        "\n",
        "\n",
        "print(grades @ inv_grades)"
      ],
      "metadata": {
        "colab": {
          "base_uri": "https://localhost:8080/"
        },
        "id": "AUTj-hVz7GNG",
        "outputId": "a500f4a2-938d-402c-8048-e4f6a6ff1b4c"
      },
      "execution_count": 20,
      "outputs": [
        {
          "output_type": "stream",
          "name": "stdout",
          "text": [
            "[[ 4.125 -5.125 -0.25 ]\n",
            " [-4.75   5.75   0.5  ]\n",
            " [ 1.125 -1.125 -0.25 ]]\n",
            "[[ 1.00000000e+00 -3.33066907e-15 -2.22044605e-16]\n",
            " [-2.22044605e-15  1.00000000e+00 -2.22044605e-16]\n",
            " [-3.99680289e-15  9.99200722e-15  1.00000000e+00]]\n"
          ]
        }
      ]
    },
    {
      "cell_type": "markdown",
      "source": [
        "## Basis to AI (Linear Regression)\n"
      ],
      "metadata": {
        "id": "PE-dWY057edY"
      }
    },
    {
      "cell_type": "code",
      "source": [
        "import numpy as np\n",
        "X=np.array([ [1,23,1],\n",
        "             [1,24,0],\n",
        "             [1,31,1],\n",
        "             [1,33,0],\n",
        "             [1,40,1],\n",
        "             [1,44,0],\n",
        "             [1,55,1],\n",
        "             [1,56,0],\n",
        "             [1,18,1],\n",
        "             [1,19,0] ])\n",
        "print(X)\n",
        "# X: constant, age, gender (1:male,0:female)\n",
        "\n",
        "Y=np.array([333,320,299,280,270,250,260,255,355,345] )\n",
        "print(Y)\n",
        "# Insurance Premium"
      ],
      "metadata": {
        "colab": {
          "base_uri": "https://localhost:8080/"
        },
        "id": "rcWKMBLl7e1-",
        "outputId": "65855fb1-9dbc-4e96-95fa-2619f95f95a6"
      },
      "execution_count": 21,
      "outputs": [
        {
          "output_type": "stream",
          "name": "stdout",
          "text": [
            "[[ 1 23  1]\n",
            " [ 1 24  0]\n",
            " [ 1 31  1]\n",
            " [ 1 33  0]\n",
            " [ 1 40  1]\n",
            " [ 1 44  0]\n",
            " [ 1 55  1]\n",
            " [ 1 56  0]\n",
            " [ 1 18  1]\n",
            " [ 1 19  0]]\n",
            "[333 320 299 280 270 250 260 255 355 345]\n"
          ]
        }
      ]
    },
    {
      "cell_type": "markdown",
      "source": [
        "We can create a predictor of the Premium (y), based on Age (x1) and Gender (x2):\n",
        "\n",
        "$y=\\beta_0+\\beta_1 x_{1}+\\beta_2 x_{2}$\n",
        "\n",
        "So how do we can calculate the Beta Matrix?\n",
        "\n",
        "$\\hat{\\beta}=\\left(X^{\\prime} X\\right)^{-1} X^{\\prime} Y$"
      ],
      "metadata": {
        "id": "5bN3i2br75lt"
      }
    },
    {
      "cell_type": "code",
      "source": [
        "from numpy.linalg import inv\n",
        "inv(X.T @ X) @ (X.T @ Y)"
      ],
      "metadata": {
        "colab": {
          "base_uri": "https://localhost:8080/"
        },
        "id": "OQsxDcau77eD",
        "outputId": "1c29cb51-927e-4fa2-a30d-6b1f4563e5fa"
      },
      "execution_count": 22,
      "outputs": [
        {
          "output_type": "execute_result",
          "data": {
            "text/plain": [
              "array([380.49034014,  -2.5707483 ,   8.77265306])"
            ]
          },
          "metadata": {},
          "execution_count": 22
        }
      ]
    },
    {
      "cell_type": "markdown",
      "source": [
        "Let's create a function predict_premium that calculates an estimated insurance premium based on a person's age and gender. This function leverages a linear regression model, a statistical technique used to model the relationship between a dependent variable (the premium) and independent variables (age and gender)."
      ],
      "metadata": {
        "id": "EWhD-8hm7_Bh"
      }
    },
    {
      "cell_type": "code",
      "source": [
        "def predict_premium(age, gender):\n",
        "  y = 380.49034014 +  -2.5707483*age  +   8.77265306*gender\n",
        "  return y\n",
        "\n",
        "print(predict_premium(33,1))\n",
        "print(predict_premium(33,0))\n",
        "print(predict_premium(35,1))"
      ],
      "metadata": {
        "id": "DO1uX4l58A9B"
      },
      "execution_count": null,
      "outputs": []
    }
  ]
}